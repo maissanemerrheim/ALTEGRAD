{
  "cells": [
    {
      "cell_type": "markdown",
      "metadata": {
        "id": "DlAfI8mCWAf3"
      },
      "source": [
        "<center><h2>ALTeGraD 2023<br>Lab Session 3: Transfer learning for NLP</h2> 24 / 10 / 2023<br> Dr. G. Shang, H. Abdine<br><br>\n",
        "\n",
        "\n",
        "<b>Student name:</b> [Maïssane MERRHEIM]\n",
        "\n",
        "</center>\n",
        "\n",
        "<br><br>\n",
        "In this lab we will:\n",
        "* Implement and pretrain a language model with transformer architecture.\n",
        "* Use the pretrained model (transfer learning) to perform a sentiment analysis task which consists of classifying some books reviews into positive and negative ones.\n",
        "* Compare the performance of the pretrained model to a model trained from scratch.\n",
        " <br>\n",
        "\n",
        "<b>The deadline for this lab is October 31, 2023 11:59 PM.</b> More details about the submission and the architecture for this lab can be found in the handout PDF."
      ]
    },
    {
      "cell_type": "code",
      "execution_count": 49,
      "metadata": {
        "id": "IqukuIe0Rb_c"
      },
      "outputs": [],
      "source": [
        "import math\n",
        "\n",
        "import torch\n",
        "import torch.nn as nn\n",
        "from torch.nn.utils.rnn import pad_sequence\n",
        "\n",
        "device = torch.device(\"cuda\" if torch.cuda.is_available() else \"cpu\")"
      ]
    },
    {
      "cell_type": "markdown",
      "metadata": {
        "id": "5FF6fjkqgN39"
      },
      "source": [
        "### The Model"
      ]
    },
    {
      "cell_type": "code",
      "execution_count": 50,
      "metadata": {
        "id": "p0cj9WkSFQwl"
      },
      "outputs": [],
      "source": [
        "class TransformerModel(nn.Module):\n",
        "    def __init__(self, ntoken, nhead, nhid, nlayers, dropout=0.5):\n",
        "        super(TransformerModel, self).__init__()\n",
        "        '''\n",
        "        ntokens: the size of vocabulary\n",
        "        nhid: the hidden dimension of the model.\n",
        "        We assume that embedding_dim = nhid\n",
        "        nlayers: the number of nn.TransformerEncoderLayer in nn.TransformerEncoder\n",
        "        nhead: the number of heads in the multiheadattention models\n",
        "        dropout: the dropout value\n",
        "\n",
        "        d_model (int) – the number of expected features in the input (required).\n",
        "        nhead (int) – the number of heads in the multiheadattention models (required).\n",
        "        dim_feedforward (int) – the dimension of the feedforward network model (default=2048).\n",
        "         '''\n",
        "        self.model_type = \"Transformer\"\n",
        "        self.encoder = nn.Embedding(ntoken,nhid) # fill me, nhid = the dim_embed\n",
        "        self.pos_encoder = PositionalEncoding(nhid,dropout) #fill me, the PositionalEncoding class is implemented in the next cell\n",
        "        encoder_layers = nn.TransformerEncoderLayer(nhid,nhead,nhid,dropout) #fill me we assume nhid = d_model = dim_feedforward\n",
        "        self.transformer_encoder = nn.TransformerEncoder(encoder_layers, nlayers) #fill me\n",
        "        self.nhid = nhid\n",
        "        self.init_weights()\n",
        "\n",
        "    def generate_square_subsequent_mask(self, sz):\n",
        "        mask = (torch.triu(torch.ones(sz, sz)) == 1).transpose(0, 1)\n",
        "        mask = (\n",
        "            mask.float()\n",
        "            .masked_fill(mask == 0, float(\"-inf\"))\n",
        "            .masked_fill(mask == 1, float(0.0))\n",
        "        )\n",
        "        return mask\n",
        "\n",
        "    def init_weights(self):\n",
        "        initrange = 0.1\n",
        "        self.encoder.weight.data.uniform_(-initrange, initrange)\n",
        "\n",
        "    def forward(self, src, src_mask):\n",
        "        src = self.encoder(src) * math.sqrt(self.nhid)\n",
        "        src = self.pos_encoder(src) #fill me\n",
        "        output = self.transformer_encoder(src,src_mask) #fill me\n",
        "        return output\n",
        "\n",
        "class ClassificationHead(nn.Module):\n",
        "    def __init__(self, nhid, nclasses):\n",
        "        super(ClassificationHead, self).__init__()\n",
        "        self.decoder = nn.Linear(nhid,nclasses) #fill me)\n",
        "        self.init_weights()\n",
        "\n",
        "    def init_weights(self):\n",
        "        initrange = 0.1\n",
        "        self.decoder.bias.data.zero_()\n",
        "        self.decoder.weight.data.uniform_(-initrange, initrange)\n",
        "\n",
        "    def forward(self, src):\n",
        "        output = self.decoder(src)\n",
        "        return output\n",
        "\n",
        "class Model(nn.Module):\n",
        "    def __init__(self, ntoken, nhead, nhid, nlayers, nclasses, dropout=0.5):\n",
        "        super(Model, self).__init__()\n",
        "        self.base = TransformerModel(ntoken, nhead, nhid, nlayers, dropout=0.5) #fill me\n",
        "        self.classifier = ClassificationHead(nhid, nclasses) #fill me\n",
        "\n",
        "    def forward(self, src, src_mask):\n",
        "        # base model\n",
        "        x = self.base(src,src_mask) #fill me\n",
        "        # classifier model\n",
        "        output = self.classifier(x) #fill me\n",
        "        return output"
      ]
    },
    {
      "cell_type": "code",
      "execution_count": 51,
      "metadata": {
        "id": "kt2QQohaFZry"
      },
      "outputs": [],
      "source": [
        "class PositionalEncoding(nn.Module):\n",
        "    def __init__(self, nhid, dropout=0.1, max_len=5000):\n",
        "        super(PositionalEncoding, self).__init__()\n",
        "        self.dropout = nn.Dropout(p=dropout)\n",
        "\n",
        "        pe = torch.zeros(max_len, nhid)\n",
        "        position = torch.arange(0, max_len, dtype=torch.float).unsqueeze(1)\n",
        "        div_term = torch.exp(\n",
        "            torch.arange(0, nhid, 2).float() * (-math.log(10000.0) / nhid)\n",
        "        )\n",
        "        pe[:, 0::2] = torch.sin(position * div_term)\n",
        "        pe[:, 1::2] = torch.cos(position * div_term)\n",
        "        pe = pe.unsqueeze(0).transpose(0, 1)\n",
        "        self.register_buffer(\"pe\", pe)\n",
        "\n",
        "    def forward(self, x):\n",
        "        x = x + self.pe[: x.size(0), :]\n",
        "        return self.dropout(x)"
      ]
    },
    {
      "cell_type": "markdown",
      "metadata": {
        "id": "SfEYHJx2JW6l"
      },
      "source": [
        "Let's verify if our model works, by applying one inference step"
      ]
    },
    {
      "cell_type": "code",
      "execution_count": 52,
      "metadata": {
        "colab": {
          "base_uri": "https://localhost:8080/"
        },
        "id": "rhb2gkUhJMR0",
        "outputId": "dbdbe682-f118-4f49-a614-3870b17fe031"
      },
      "outputs": [
        {
          "name": "stdout",
          "output_type": "stream",
          "text": [
            "torch.Size([1, 6, 100])\n"
          ]
        }
      ],
      "source": [
        "ntokens = 100 # the size of vocabulary\n",
        "nhid = 200  # hidden dimension\n",
        "nlayers = 4  # the number of nn.TransformerEncoderLayer in nn.TransformerEncoder\n",
        "nhead = 2  # the number of heads in the multiheadattention models\n",
        "dropout = 0  # the dropout value\n",
        "\n",
        "model = Model(ntokens, nhead, nhid, nlayers, ntokens, dropout).to(device)\n",
        "dummy_input = torch.tensor([[2, 6, 2, 5, 43, 21]]).to(device)\n",
        "src_mask = model.base.generate_square_subsequent_mask(1).to(device)\n",
        "\n",
        "out = model.forward(dummy_input, src_mask)\n",
        "\n",
        "print(out.shape) # is it the right shape?"
      ]
    },
    {
      "cell_type": "markdown",
      "metadata": {
        "id": "i74NN897Fcit"
      },
      "source": [
        "## Vocabulary and Tokenization"
      ]
    },
    {
      "cell_type": "code",
      "execution_count": 53,
      "metadata": {
        "colab": {
          "base_uri": "https://localhost:8080/"
        },
        "id": "5qjd26ghWuff",
        "outputId": "961c5959-a11c-49b3-c082-f17765880e4a"
      },
      "outputs": [
        {
          "name": "stdout",
          "output_type": "stream",
          "text": [
            "--2023-10-31 16:27:21--  https://raw.githubusercontent.com/moussaKam/transfer_learning_transformers/main/dict.txt\n",
            "Resolving raw.githubusercontent.com (raw.githubusercontent.com)... 185.199.108.133, 185.199.109.133, 185.199.110.133, ...\n",
            "Connecting to raw.githubusercontent.com (raw.githubusercontent.com)|185.199.108.133|:443... connected.\n",
            "HTTP request sent, awaiting response... 200 OK\n",
            "Length: 577587 (564K) [text/plain]\n",
            "Saving to: ‘dict.txt.1’\n",
            "\n",
            "dict.txt.1          100%[===================>] 564.05K  --.-KB/s    in 0.05s   \n",
            "\n",
            "2023-10-31 16:27:21 (11.5 MB/s) - ‘dict.txt.1’ saved [577587/577587]\n",
            "\n",
            "▁d 1\n",
            "es 1\n",
            "▁l 1\n",
            "en 1\n",
            "on 1\n"
          ]
        }
      ],
      "source": [
        "!wget https://raw.githubusercontent.com/moussaKam/transfer_learning_transformers/main/dict.txt\n",
        "!head -5 dict.txt"
      ]
    },
    {
      "cell_type": "code",
      "execution_count": 54,
      "metadata": {
        "colab": {
          "base_uri": "https://localhost:8080/"
        },
        "id": "vFdH_-JeFbGA",
        "outputId": "76847e6a-2ef0-44c9-bfe1-6fbc56ad5a0f"
      },
      "outputs": [
        {
          "name": "stdout",
          "output_type": "stream",
          "text": [
            "▁trop\n"
          ]
        }
      ],
      "source": [
        "path_vocab = \"dict.txt\"\n",
        "token2ind = {\"<sos>\": 0, \"<pad>\": 1, \"<eos>\": 2, \"<oov>\": 3} # the 4 first indices are reserved to special tokens\n",
        "with open(path_vocab, \"r\") as f:\n",
        "    for idx, line in enumerate(f):\n",
        "        word = line.split()[0].strip()\n",
        "        token2ind[word] = (idx + 4)  #fill me\n",
        "\n",
        "ind2token = {idx: word for word, idx in token2ind.items()} #fill me\n",
        "print(ind2token[1111])"
      ]
    },
    {
      "cell_type": "markdown",
      "metadata": {
        "id": "XOExGODajN8p"
      },
      "source": [
        "### Data Loader\n"
      ]
    },
    {
      "cell_type": "code",
      "execution_count": 55,
      "metadata": {
        "id": "Y0jN-Ar9i5Q1"
      },
      "outputs": [],
      "source": [
        "import numpy\n",
        "import torch\n",
        "from torch.nn.utils.rnn import pad_sequence\n",
        "from torch.utils.data import DataLoader, Dataset\n",
        "\n",
        "\n",
        "class Dataset(Dataset):\n",
        "    def __init__(\n",
        "        self,\n",
        "        path_documents,\n",
        "        path_labels=None,\n",
        "        token2ind={},\n",
        "        max_len=512,\n",
        "        task=\"language_modeling\",\n",
        "    ):\n",
        "        self.task = task\n",
        "        self.max_len = max_len\n",
        "        self.token2ind = token2ind\n",
        "        self.documents = []\n",
        "        self.labels = []\n",
        "        with open(path_documents, \"r\") as f1:\n",
        "            for line in f1:\n",
        "                self.documents.append(line.strip())\n",
        "        if task == \"classification\":\n",
        "            with open(path_labels, \"r\") as f1:\n",
        "                for line in f1:\n",
        "                    self.labels.append(int(line.strip()))\n",
        "            assert len(self.labels) == len(self.documents)\n",
        "\n",
        "    def __len__(self):\n",
        "        return len(self.documents)\n",
        "\n",
        "    def __getitem__(self, index):\n",
        "        sequence = self.documents[index].split()\n",
        "        if len(sequence) > self.max_len - 1:\n",
        "            sequence = sequence[: self.max_len - 1]\n",
        "        # token2ind.get to get the ind of the token. If the token is not in token2ind, replace with <oov>.\n",
        "        source_sequence = [self.token2ind.get(token, self.token2ind[\"<oov>\"]) for token in sequence]\n",
        "        # add the special tokens sos and eos\n",
        "        source_sequence = [self.token2ind[\"<sos>\"]] + source_sequence + [self.token2ind[\"<eos>\"]]\n",
        "        #fill me (constract the input sequence using token2ind, sequence and special tokens)\n",
        "        if self.task == \"language_modeling\":\n",
        "            target = source_sequence[1:]\n",
        "            target.append(self.token2ind[\"<eos>\"])\n",
        "        elif self.task == \"classification\":\n",
        "            target = [self.labels[index]]\n",
        "        sample = {\n",
        "            \"source_sequence\": torch.tensor(source_sequence),\n",
        "            \"target\": torch.tensor(target),\n",
        "        }\n",
        "        return sample\n",
        "\n",
        "\n",
        "def MyCollator(batch):\n",
        "    source_sequences = pad_sequence(\n",
        "        #we use padding to match the length of the sequences in the same batch\n",
        "        [sample[\"source_sequence\"] for sample in batch], padding_value=token2ind[\"<pad>\"]\n",
        "    )\n",
        "    target = pad_sequence(\n",
        "        [sample[\"target\"] for sample in batch], padding_value=token2ind[\"<pad>\"]\n",
        "    )\n",
        "    return source_sequences, target.reshape(-1)\n",
        "\n",
        "\n",
        "def get_loader(\n",
        "    path_documents,\n",
        "    path_labels=None,\n",
        "    token2ind={},\n",
        "    max_len=512,\n",
        "    batch_size=32,\n",
        "    task=\"language_modeling\",\n",
        "):\n",
        "    dataset = Dataset(\n",
        "        path_documents,\n",
        "        path_labels=path_labels,\n",
        "        token2ind=token2ind,\n",
        "        max_len=512,\n",
        "        task=task,\n",
        "    )\n",
        "    data_loader = DataLoader(\n",
        "        dataset=dataset,\n",
        "        batch_size=batch_size,\n",
        "        shuffle=True,\n",
        "        collate_fn=MyCollator,\n",
        "        pin_memory=True,\n",
        "        drop_last=True,\n",
        "    )\n",
        "    return data_loader"
      ]
    },
    {
      "cell_type": "markdown",
      "metadata": {
        "id": "uTns4lHrjUTa"
      },
      "source": [
        "## The Training"
      ]
    },
    {
      "cell_type": "code",
      "execution_count": 56,
      "metadata": {
        "id": "4_jwosiLjRsS"
      },
      "outputs": [],
      "source": [
        "def train(\n",
        "    path_data_train,\n",
        "    path_labels_train=None,\n",
        "    path_data_valid=None,\n",
        "    save_interval=-1,\n",
        "    log_interval=5,\n",
        "    task=\"language_modeling\",\n",
        "    batch_size=32,\n",
        "):\n",
        "    model.train()\n",
        "    total_loss = 0.0\n",
        "    ntokens = len(token2ind)\n",
        "    data_loader = get_loader(\n",
        "        path_data_train,\n",
        "        path_labels_train,\n",
        "        token2ind,\n",
        "        task=task,\n",
        "        batch_size=batch_size,\n",
        "    )\n",
        "\n",
        "    losses = []\n",
        "    for idx, data in enumerate(data_loader): #step 1\n",
        "        optimizer.zero_grad()\n",
        "        src_mask = model.base.generate_square_subsequent_mask(data[0].size(0)).to(\n",
        "            device\n",
        "        )\n",
        "        input = data[0].to(device)\n",
        "        output = model(input, src_mask) #step 2\n",
        "        if task == 'classification':\n",
        "            #last vector only\n",
        "            output = output[-1] #fill me # we take the last vector only\n",
        "        output = output.view(-1, output.shape[-1])\n",
        "        target = data[1].to(device) #fill me\n",
        "        target = target.to(device)\n",
        "\n",
        "        # We compute the loss function (between the target and the ouput)\n",
        "        loss = criterion(output, target)  #fill me step 3 #criterion = nn.CrossEntropyLoss()\n",
        "        optimizer.zero_grad()\n",
        "        loss.backward() #backpropagation\n",
        "\n",
        "\n",
        "        torch.nn.utils.clip_grad_norm_(model.parameters(), 0.5) # prevent exploding gradient\n",
        "\n",
        "\n",
        "        #fill me step 4\n",
        "        optimizer.step()\n",
        "\n",
        "        total_loss += loss.item()\n",
        "        if idx % log_interval == 0 and idx > 0:\n",
        "            cur_loss = total_loss / log_interval\n",
        "            print(\n",
        "                \"| epoch {:3d} | {:5d}/{:5d} steps | \"\n",
        "                \"loss {:5.5f} | ppl {:8.3f}\".format(\n",
        "                    epoch, idx, len(data_loader), cur_loss, math.exp(cur_loss),\n",
        "                )\n",
        "            )\n",
        "            losses.append(cur_loss)\n",
        "            total_loss = 0\n",
        "    return losses"
      ]
    },
    {
      "cell_type": "code",
      "execution_count": 57,
      "metadata": {
        "colab": {
          "base_uri": "https://localhost:8080/"
        },
        "id": "pkqkPkParCdx",
        "outputId": "de326bca-6a77-4aa2-f882-d1ee243cd32b"
      },
      "outputs": [
        {
          "name": "stdout",
          "output_type": "stream",
          "text": [
            "50001\n"
          ]
        }
      ],
      "source": [
        "print(len(token2ind))"
      ]
    },
    {
      "cell_type": "code",
      "execution_count": 58,
      "metadata": {
        "id": "pgf6BDB9jUr6"
      },
      "outputs": [],
      "source": [
        "ntokens = len(token2ind) #fill me # the size of vocabulary\n",
        "nhid = 200  # the dimension of the feedforward network model in nn.TransformerEncoder\n",
        "nlayers = 4  # the number of nn.TransformerEncoderLayer in nn.TransformerEncoder\n",
        "nhead = 2  # the number of heads in the multiheadattention models\n",
        "dropout = 0  # the dropout value\n",
        "\n",
        "nclasses = 2 # for classification task only\n",
        "\n",
        "model = Model(ntokens, nhead, nhid, nlayers, ntokens, dropout).to(device)"
      ]
    },
    {
      "cell_type": "code",
      "execution_count": 59,
      "metadata": {
        "id": "u-OLy4KIkDwf"
      },
      "outputs": [],
      "source": [
        "# optimization parameters\n",
        "\n",
        "criterion = nn.CrossEntropyLoss(ignore_index=token2ind['<pad>'])\n",
        "lr = 0.0003  # learning rate\n",
        "optimizer = torch.optim.Adam(model.parameters(), lr=lr)"
      ]
    },
    {
      "cell_type": "code",
      "execution_count": 60,
      "metadata": {
        "colab": {
          "base_uri": "https://localhost:8080/"
        },
        "id": "Bwh3n9xZQy4e",
        "outputId": "31fa6f45-b395-4006-8939-49cdcff5ea18"
      },
      "outputs": [
        {
          "name": "stdout",
          "output_type": "stream",
          "text": [
            "--2023-10-31 16:27:22--  https://raw.githubusercontent.com/moussaKam/transfer_learning_transformers/main/pretraining_subset.txt\n",
            "Resolving raw.githubusercontent.com (raw.githubusercontent.com)... 185.199.108.133, 185.199.109.133, 185.199.110.133, ...\n",
            "Connecting to raw.githubusercontent.com (raw.githubusercontent.com)|185.199.108.133|:443... connected.\n",
            "HTTP request sent, awaiting response... 200 OK\n",
            "Length: 10146460 (9.7M) [text/plain]\n",
            "Saving to: ‘pretraining_subset.txt.1’\n",
            "\n",
            "\rpretraining_subset.   0%[                    ]       0  --.-KB/s               \rpretraining_subset. 100%[===================>]   9.68M  --.-KB/s    in 0.1s    \n",
            "\n",
            "2023-10-31 16:27:22 (95.0 MB/s) - ‘pretraining_subset.txt.1’ saved [10146460/10146460]\n",
            "\n"
          ]
        }
      ],
      "source": [
        "!wget https://raw.githubusercontent.com/moussaKam/transfer_learning_transformers/main/pretraining_subset.txt\n",
        "path_data_train = \"pretraining_subset.txt\""
      ]
    },
    {
      "cell_type": "code",
      "execution_count": 61,
      "metadata": {
        "colab": {
          "base_uri": "https://localhost:8080/"
        },
        "id": "0m11g4ScjZaR",
        "outputId": "c75d7a95-8beb-4a50-b599-b74d969ce623"
      },
      "outputs": [
        {
          "name": "stdout",
          "output_type": "stream",
          "text": [
            "| epoch   1 |   500/ 3125 steps | loss 7.49216 | ppl 1793.929\n",
            "| epoch   1 |  1000/ 3125 steps | loss 6.79344 | ppl  891.977\n",
            "| epoch   1 |  1500/ 3125 steps | loss 6.57226 | ppl  714.982\n",
            "| epoch   1 |  2000/ 3125 steps | loss 6.40342 | ppl  603.908\n",
            "| epoch   1 |  2500/ 3125 steps | loss 6.27381 | ppl  530.493\n",
            "| epoch   1 |  3000/ 3125 steps | loss 6.16375 | ppl  475.206\n",
            "| epoch   2 |   500/ 3125 steps | loss 5.98313 | ppl  396.679\n",
            "| epoch   2 |  1000/ 3125 steps | loss 5.90859 | ppl  368.188\n",
            "| epoch   2 |  1500/ 3125 steps | loss 5.85254 | ppl  348.118\n",
            "| epoch   2 |  2000/ 3125 steps | loss 5.82886 | ppl  339.972\n",
            "| epoch   2 |  2500/ 3125 steps | loss 5.80210 | ppl  330.992\n",
            "| epoch   2 |  3000/ 3125 steps | loss 5.75742 | ppl  316.531\n"
          ]
        }
      ],
      "source": [
        "#pretraining on a tiny subset\n",
        "log_interval = 500\n",
        "epochs = 2\n",
        "for epoch in range(1, epochs + 1): #5\n",
        "    train(\n",
        "        path_data_train,\n",
        "        save_interval=-1,\n",
        "        task='language_modeling', # fill me\n",
        "        batch_size=16,\n",
        "        log_interval=log_interval,\n",
        "    )"
      ]
    },
    {
      "cell_type": "markdown",
      "metadata": {
        "id": "MeOM1dOvkO4e"
      },
      "source": [
        "## Text Generation\n"
      ]
    },
    {
      "cell_type": "code",
      "execution_count": 62,
      "metadata": {
        "colab": {
          "base_uri": "https://localhost:8080/"
        },
        "id": "-BcBC6FSkMH3",
        "outputId": "d5a1509c-4792-440c-b088-24ee1c3108af"
      },
      "outputs": [
        {
          "name": "stdout",
          "output_type": "stream",
          "text": [
            "--2023-10-31 16:32:12--  https://raw.githubusercontent.com/moussaKam/transfer_learning_transformers/main/pretrained_model_4layers.pt\n",
            "Resolving raw.githubusercontent.com (raw.githubusercontent.com)... 185.199.108.133, 185.199.109.133, 185.199.110.133, ...\n",
            "Connecting to raw.githubusercontent.com (raw.githubusercontent.com)|185.199.108.133|:443... connected.\n",
            "HTTP request sent, awaiting response... 200 OK\n",
            "Length: 88093955 (84M) [application/octet-stream]\n",
            "Saving to: ‘pretrained_model_4layers.pt.1’\n",
            "\n",
            "pretrained_model_4l 100%[===================>]  84.01M   261MB/s    in 0.3s    \n",
            "\n",
            "2023-10-31 16:32:12 (261 MB/s) - ‘pretrained_model_4layers.pt.1’ saved [88093955/88093955]\n",
            "\n"
          ]
        },
        {
          "data": {
            "text/plain": [
              "<All keys matched successfully>"
            ]
          },
          "execution_count": 62,
          "metadata": {},
          "output_type": "execute_result"
        }
      ],
      "source": [
        "!wget https://raw.githubusercontent.com/moussaKam/transfer_learning_transformers/main/pretrained_model_4layers.pt\n",
        "\n",
        "model = Model(ntokens, nhead, nhid, nlayers, ntokens).to(device)\n",
        "\n",
        "#load the checkpoint\n",
        "checkpoint = torch.load('pretrained_model_4layers.pt')\n",
        "#load state dict\n",
        "model.load_state_dict(checkpoint['model_state_dict'])"
      ]
    },
    {
      "cell_type": "code",
      "execution_count": 63,
      "metadata": {
        "colab": {
          "base_uri": "https://localhost:8080/"
        },
        "id": "tBRRVsWqlIoQ",
        "outputId": "4f88b225-2b79-4846-fdc1-b41faa53885f"
      },
      "outputs": [
        {
          "name": "stdout",
          "output_type": "stream",
          "text": [
            "--2023-10-31 16:32:13--  https://raw.githubusercontent.com/moussaKam/transfer_learning_transformers/main/sentencepiece.french.model\n",
            "Resolving raw.githubusercontent.com (raw.githubusercontent.com)... 185.199.108.133, 185.199.110.133, 185.199.111.133, ...\n",
            "Connecting to raw.githubusercontent.com (raw.githubusercontent.com)|185.199.108.133|:443... connected.\n",
            "HTTP request sent, awaiting response... 200 OK\n",
            "Length: 1115362 (1.1M) [application/octet-stream]\n",
            "Saving to: ‘sentencepiece.french.model.1’\n",
            "\n",
            "\r          sentencep   0%[                    ]       0  --.-KB/s               \rsentencepiece.frenc 100%[===================>]   1.06M  --.-KB/s    in 0.06s   \n",
            "\n",
            "2023-10-31 16:32:13 (17.9 MB/s) - ‘sentencepiece.french.model.1’ saved [1115362/1115362]\n",
            "\n",
            "Requirement already satisfied: sentencepiece in /usr/local/lib/python3.10/dist-packages (0.1.99)\n",
            "['▁Bonjour', '▁les', '▁amis', '!']\n",
            "Bonjour les amis!\n"
          ]
        }
      ],
      "source": [
        "# !pip install sentencepiece   # uncomment this if you are using google colab\n",
        "!wget https://raw.githubusercontent.com/moussaKam/transfer_learning_transformers/main/sentencepiece.french.model\n",
        "!pip install sentencepiece\n",
        "import sentencepiece as spm\n",
        "\n",
        "s = spm.SentencePieceProcessor(model_file='sentencepiece.french.model') #load sentencepiece model\n",
        "\n",
        "#examples\n",
        "encoded = s.encode_as_pieces(\"Bonjour les amis!\")\n",
        "decoded = s.decode_pieces(encoded)\n",
        "print(encoded)\n",
        "print(decoded)"
      ]
    },
    {
      "cell_type": "code",
      "execution_count": 64,
      "metadata": {
        "id": "TdmEgXQQXZdb"
      },
      "outputs": [],
      "source": [
        "def infer_next_token(sent):\n",
        "    model.eval()\n",
        "    sent_pieces = s.encode_as_pieces(sent)\n",
        "    sent_pieces = [item for sublist in sent_pieces for item in sublist]\n",
        "    source = [token2ind['<sos>']] + [token2ind[el] for el in sent_pieces] # list of tokens\n",
        "    source = torch.tensor(source).to(device)\n",
        "    source = source.reshape(-1, 1)\n",
        "    src_mask = model.base.generate_square_subsequent_mask(source.size(0)).to(device)\n",
        "    out = model(source, src_mask)\n",
        "    next_token_ind = torch.argmax(out, dim=2)[-1].item() #fill me\n",
        "    return next_token_ind, out\n",
        "\n",
        "def infer_next_tokens(sent, max_len=50):\n",
        "    input_sentence = s.encode_as_pieces(sent) #input_sentence est donc maintenant une liste ['_Bonjour','_les']\n",
        "    ind_next_token = 0\n",
        "    while len(input_sentence) < max_len: #because we have to take into account the lenght of the first words in the input sentence\n",
        "      ind_next_token = infer_next_token(input_sentence)[0]\n",
        "      input_sentence.append(ind2token[ind_next_token]) #add to the list (encoded input sentence) the predicted tokens\n",
        "      if ind_next_token == 2: #2 corresponds to <eos>\n",
        "        break #return the decoded input_sentence\n",
        "    return s.decode_pieces(input_sentence) #return the decoded input_sentence"
      ]
    },
    {
      "cell_type": "code",
      "execution_count": 65,
      "metadata": {
        "colab": {
          "base_uri": "https://localhost:8080/",
          "height": 35
        },
        "id": "f83Nn5nSly4v",
        "outputId": "846d2dfe-5e4a-4503-f166-5797f169c3c4"
      },
      "outputs": [
        {
          "data": {
            "application/vnd.google.colaboratory.intrinsic+json": {
              "type": "string"
            },
            "text/plain": [
              "'Bonjour les gens qui ont été très accueillants et sympathiques.<eos>'"
            ]
          },
          "execution_count": 65,
          "metadata": {},
          "output_type": "execute_result"
        }
      ],
      "source": [
        "sent = \"Bonjour les\"\n",
        "infer_next_tokens(sent,50)"
      ]
    },
    {
      "cell_type": "markdown",
      "metadata": {
        "id": "Lp7mjVzomoZ3"
      },
      "source": [
        "### Supervised task"
      ]
    },
    {
      "cell_type": "code",
      "execution_count": 66,
      "metadata": {
        "colab": {
          "base_uri": "https://localhost:8080/"
        },
        "id": "0K1BZsblmEmx",
        "outputId": "698609b3-1e5d-4ebf-d7db-e66023c80d64"
      },
      "outputs": [
        {
          "name": "stdout",
          "output_type": "stream",
          "text": [
            "--2023-10-31 16:32:17--  https://raw.githubusercontent.com/moussaKam/transfer_learning_transformers/main/cls-books/train.review.spm\n",
            "Resolving raw.githubusercontent.com (raw.githubusercontent.com)... 185.199.108.133, 185.199.110.133, 185.199.111.133, ...\n",
            "Connecting to raw.githubusercontent.com (raw.githubusercontent.com)|185.199.108.133|:443... connected.\n",
            "HTTP request sent, awaiting response... 200 OK\n",
            "Length: 1495960 (1.4M) [text/plain]\n",
            "Saving to: ‘train.review.spm.2’\n",
            "\n",
            "\rtrain.review.spm.2    0%[                    ]       0  --.-KB/s               \rtrain.review.spm.2  100%[===================>]   1.43M  --.-KB/s    in 0.06s   \n",
            "\n",
            "2023-10-31 16:32:17 (23.0 MB/s) - ‘train.review.spm.2’ saved [1495960/1495960]\n",
            "\n",
            "--2023-10-31 16:32:17--  https://raw.githubusercontent.com/moussaKam/transfer_learning_transformers/main/cls-books/train.label\n",
            "Resolving raw.githubusercontent.com (raw.githubusercontent.com)... 185.199.108.133, 185.199.109.133, 185.199.110.133, ...\n",
            "Connecting to raw.githubusercontent.com (raw.githubusercontent.com)|185.199.108.133|:443... connected.\n",
            "HTTP request sent, awaiting response... 200 OK\n",
            "Length: 3200 (3.1K) [text/plain]\n",
            "Saving to: ‘train.label.2’\n",
            "\n",
            "train.label.2       100%[===================>]   3.12K  --.-KB/s    in 0s      \n",
            "\n",
            "2023-10-31 16:32:17 (57.7 MB/s) - ‘train.label.2’ saved [3200/3200]\n",
            "\n",
            "--2023-10-31 16:32:17--  https://raw.githubusercontent.com/moussaKam/transfer_learning_transformers/main/cls-books/test.review.spm\n",
            "Resolving raw.githubusercontent.com (raw.githubusercontent.com)... 185.199.108.133, 185.199.109.133, 185.199.110.133, ...\n",
            "Connecting to raw.githubusercontent.com (raw.githubusercontent.com)|185.199.108.133|:443... connected.\n",
            "HTTP request sent, awaiting response... 200 OK\n",
            "Length: 1864544 (1.8M) [text/plain]\n",
            "Saving to: ‘test.review.spm.2’\n",
            "\n",
            "test.review.spm.2   100%[===================>]   1.78M  --.-KB/s    in 0.07s   \n",
            "\n",
            "2023-10-31 16:32:17 (27.0 MB/s) - ‘test.review.spm.2’ saved [1864544/1864544]\n",
            "\n",
            "--2023-10-31 16:32:17--  https://raw.githubusercontent.com/moussaKam/transfer_learning_transformers/main/cls-books/test.label\n",
            "Resolving raw.githubusercontent.com (raw.githubusercontent.com)... 185.199.108.133, 185.199.109.133, 185.199.110.133, ...\n",
            "Connecting to raw.githubusercontent.com (raw.githubusercontent.com)|185.199.108.133|:443... connected.\n",
            "HTTP request sent, awaiting response... 200 OK\n",
            "Length: 4000 (3.9K) [text/plain]\n",
            "Saving to: ‘test.label.2’\n",
            "\n",
            "test.label.2        100%[===================>]   3.91K  --.-KB/s    in 0s      \n",
            "\n",
            "2023-10-31 16:32:17 (69.2 MB/s) - ‘test.label.2’ saved [4000/4000]\n",
            "\n"
          ]
        }
      ],
      "source": [
        "!wget https://raw.githubusercontent.com/moussaKam/transfer_learning_transformers/main/cls-books/train.review.spm\n",
        "!wget https://raw.githubusercontent.com/moussaKam/transfer_learning_transformers/main/cls-books/train.label\n",
        "!wget https://raw.githubusercontent.com/moussaKam/transfer_learning_transformers/main/cls-books/test.review.spm\n",
        "!wget https://raw.githubusercontent.com/moussaKam/transfer_learning_transformers/main/cls-books/test.label\n",
        "\n",
        "path_data_train = \"train.review.spm\"\n",
        "path_labels_train = \"train.label\"\n",
        "\n",
        "path_data_valid = \"test.review.spm\"\n",
        "path_labels_valid = \"test.label\""
      ]
    },
    {
      "cell_type": "code",
      "execution_count": 67,
      "metadata": {
        "id": "gLcuD-bi_kcB"
      },
      "outputs": [],
      "source": [
        "# a function to evaluate the validation accuracy of the model.\n",
        "def evaluate_accuracy(data_loader):\n",
        "  #to be implemented\n",
        "  model.eval()\n",
        "  total_correct = 0\n",
        "  total_instances = 0\n",
        "\n",
        "  with torch.no_grad():\n",
        "    for data in data_loader:\n",
        "      input, label = data\n",
        "      input = input.to(device)\n",
        "      label = label.to(device)\n",
        "\n",
        "      predictions = model(input, model.base.generate_square_subsequent_mask(input.size(0)).to(device))[-1]\n",
        "\n",
        "      classes = torch.argmax(predictions, dim=-1)\n",
        "      label = label.view(-1)\n",
        "\n",
        "      correct = (classes == label).sum().item()\n",
        "      total_correct += correct\n",
        "      total_instances += label.size(0)\n",
        "\n",
        "  accuracy = (total_correct / total_instances) * 100\n",
        "\n",
        "  return accuracy"
      ]
    },
    {
      "cell_type": "code",
      "execution_count": 68,
      "metadata": {
        "colab": {
          "base_uri": "https://localhost:8080/"
        },
        "id": "onoVLNmBVQ1G",
        "outputId": "5698aad4-8d07-46e8-a175-86e361dce82f"
      },
      "outputs": [
        {
          "name": "stdout",
          "output_type": "stream",
          "text": [
            "Model(\n",
            "  (base): TransformerModel(\n",
            "    (encoder): Embedding(50001, 200)\n",
            "    (pos_encoder): PositionalEncoding(\n",
            "      (dropout): Dropout(p=0.5, inplace=False)\n",
            "    )\n",
            "    (transformer_encoder): TransformerEncoder(\n",
            "      (layers): ModuleList(\n",
            "        (0-3): 4 x TransformerEncoderLayer(\n",
            "          (self_attn): MultiheadAttention(\n",
            "            (out_proj): NonDynamicallyQuantizableLinear(in_features=200, out_features=200, bias=True)\n",
            "          )\n",
            "          (linear1): Linear(in_features=200, out_features=200, bias=True)\n",
            "          (dropout): Dropout(p=0.5, inplace=False)\n",
            "          (linear2): Linear(in_features=200, out_features=200, bias=True)\n",
            "          (norm1): LayerNorm((200,), eps=1e-05, elementwise_affine=True)\n",
            "          (norm2): LayerNorm((200,), eps=1e-05, elementwise_affine=True)\n",
            "          (dropout1): Dropout(p=0.5, inplace=False)\n",
            "          (dropout2): Dropout(p=0.5, inplace=False)\n",
            "        )\n",
            "      )\n",
            "    )\n",
            "  )\n",
            "  (classifier): ClassificationHead(\n",
            "    (decoder): Linear(in_features=200, out_features=50001, bias=True)\n",
            "  )\n",
            ")\n"
          ]
        }
      ],
      "source": [
        "print(model)"
      ]
    },
    {
      "cell_type": "code",
      "execution_count": 69,
      "metadata": {
        "id": "qzmx7T7xoa6v"
      },
      "outputs": [],
      "source": [
        "#save the base model to be loaded later in the fine-tuning phase\n",
        "torch.save({\"model_state_dict\": model.base.state_dict(),}, \"pretrained_model_4layers_no_class_head.pt\")"
      ]
    },
    {
      "cell_type": "code",
      "execution_count": 71,
      "metadata": {
        "colab": {
          "base_uri": "https://localhost:8080/"
        },
        "id": "i-xclMCpnVpw",
        "outputId": "1d27e210-9bdf-47fe-a082-798c7174b0f5"
      },
      "outputs": [
        {
          "name": "stdout",
          "output_type": "stream",
          "text": [
            "=====Trainig FROM SCRATCH======\n",
            "| epoch   1 |    50/  200 steps | loss 0.81034 | ppl    2.249\n",
            "| epoch   1 |   100/  200 steps | loss 0.74250 | ppl    2.101\n",
            "| epoch   1 |   150/  200 steps | loss 0.75828 | ppl    2.135\n",
            "| epoch   2 |    50/  200 steps | loss 0.76630 | ppl    2.152\n",
            "| epoch   2 |   100/  200 steps | loss 0.76499 | ppl    2.149\n",
            "| epoch   2 |   150/  200 steps | loss 0.73869 | ppl    2.093\n",
            "| epoch   3 |    50/  200 steps | loss 0.76610 | ppl    2.151\n",
            "| epoch   3 |   100/  200 steps | loss 0.73364 | ppl    2.083\n",
            "| epoch   3 |   150/  200 steps | loss 0.70753 | ppl    2.029\n",
            "| epoch   4 |    50/  200 steps | loss 0.66960 | ppl    1.953\n",
            "| epoch   4 |   100/  200 steps | loss 0.62744 | ppl    1.873\n",
            "| epoch   4 |   150/  200 steps | loss 0.66390 | ppl    1.942\n",
            "| epoch   5 |    50/  200 steps | loss 0.54388 | ppl    1.723\n",
            "| epoch   5 |   100/  200 steps | loss 0.52122 | ppl    1.684\n",
            "| epoch   5 |   150/  200 steps | loss 0.49975 | ppl    1.648\n",
            "| epoch   6 |    50/  200 steps | loss 0.37256 | ppl    1.451\n",
            "| epoch   6 |   100/  200 steps | loss 0.42394 | ppl    1.528\n",
            "| epoch   6 |   150/  200 steps | loss 0.44101 | ppl    1.554\n",
            "| epoch   7 |    50/  200 steps | loss 0.32017 | ppl    1.377\n",
            "| epoch   7 |   100/  200 steps | loss 0.33138 | ppl    1.393\n",
            "| epoch   7 |   150/  200 steps | loss 0.26056 | ppl    1.298\n",
            "| epoch   8 |    50/  200 steps | loss 0.25100 | ppl    1.285\n",
            "| epoch   8 |   100/  200 steps | loss 0.31451 | ppl    1.370\n",
            "| epoch   8 |   150/  200 steps | loss 0.26682 | ppl    1.306\n",
            "| epoch   9 |    50/  200 steps | loss 0.18092 | ppl    1.198\n",
            "| epoch   9 |   100/  200 steps | loss 0.16955 | ppl    1.185\n",
            "| epoch   9 |   150/  200 steps | loss 0.17717 | ppl    1.194\n",
            "| epoch  10 |    50/  200 steps | loss 0.21454 | ppl    1.239\n",
            "| epoch  10 |   100/  200 steps | loss 0.21321 | ppl    1.238\n",
            "| epoch  10 |   150/  200 steps | loss 0.18170 | ppl    1.199\n",
            "| epoch  11 |    50/  200 steps | loss 0.21658 | ppl    1.242\n",
            "| epoch  11 |   100/  200 steps | loss 0.10267 | ppl    1.108\n",
            "| epoch  11 |   150/  200 steps | loss 0.10358 | ppl    1.109\n",
            "| epoch  12 |    50/  200 steps | loss 0.10979 | ppl    1.116\n",
            "| epoch  12 |   100/  200 steps | loss 0.10338 | ppl    1.109\n",
            "| epoch  12 |   150/  200 steps | loss 0.16550 | ppl    1.180\n",
            "| epoch  13 |    50/  200 steps | loss 0.10361 | ppl    1.109\n",
            "| epoch  13 |   100/  200 steps | loss 0.08802 | ppl    1.092\n",
            "| epoch  13 |   150/  200 steps | loss 0.13757 | ppl    1.147\n",
            "| epoch  14 |    50/  200 steps | loss 0.05407 | ppl    1.056\n",
            "| epoch  14 |   100/  200 steps | loss 0.10071 | ppl    1.106\n",
            "| epoch  14 |   150/  200 steps | loss 0.04280 | ppl    1.044\n",
            "| epoch  15 |    50/  200 steps | loss 0.06597 | ppl    1.068\n",
            "| epoch  15 |   100/  200 steps | loss 0.06680 | ppl    1.069\n",
            "| epoch  15 |   150/  200 steps | loss 0.07966 | ppl    1.083\n",
            "\n",
            "=====PRETRAINED MODEL======\n",
            "| epoch   1 |    50/  200 steps | loss 0.86965 | ppl    2.386\n",
            "| epoch   1 |   100/  200 steps | loss 0.83071 | ppl    2.295\n",
            "| epoch   1 |   150/  200 steps | loss 0.76782 | ppl    2.155\n",
            "| epoch   2 |    50/  200 steps | loss 0.73131 | ppl    2.078\n",
            "| epoch   2 |   100/  200 steps | loss 0.67511 | ppl    1.964\n",
            "| epoch   2 |   150/  200 steps | loss 0.65938 | ppl    1.934\n",
            "| epoch   3 |    50/  200 steps | loss 0.64549 | ppl    1.907\n",
            "| epoch   3 |   100/  200 steps | loss 0.58262 | ppl    1.791\n",
            "| epoch   3 |   150/  200 steps | loss 0.52733 | ppl    1.694\n",
            "| epoch   4 |    50/  200 steps | loss 0.53790 | ppl    1.712\n",
            "| epoch   4 |   100/  200 steps | loss 0.53528 | ppl    1.708\n",
            "| epoch   4 |   150/  200 steps | loss 0.54377 | ppl    1.722\n",
            "| epoch   5 |    50/  200 steps | loss 0.48169 | ppl    1.619\n",
            "| epoch   5 |   100/  200 steps | loss 0.46161 | ppl    1.587\n",
            "| epoch   5 |   150/  200 steps | loss 0.55339 | ppl    1.739\n",
            "| epoch   6 |    50/  200 steps | loss 0.45267 | ppl    1.572\n",
            "| epoch   6 |   100/  200 steps | loss 0.57771 | ppl    1.782\n",
            "| epoch   6 |   150/  200 steps | loss 0.44613 | ppl    1.562\n",
            "| epoch   7 |    50/  200 steps | loss 0.46858 | ppl    1.598\n",
            "| epoch   7 |   100/  200 steps | loss 0.44104 | ppl    1.554\n",
            "| epoch   7 |   150/  200 steps | loss 0.43821 | ppl    1.550\n",
            "| epoch   8 |    50/  200 steps | loss 0.43679 | ppl    1.548\n",
            "| epoch   8 |   100/  200 steps | loss 0.43111 | ppl    1.539\n",
            "| epoch   8 |   150/  200 steps | loss 0.39875 | ppl    1.490\n",
            "| epoch   9 |    50/  200 steps | loss 0.37058 | ppl    1.449\n",
            "| epoch   9 |   100/  200 steps | loss 0.47955 | ppl    1.615\n",
            "| epoch   9 |   150/  200 steps | loss 0.40968 | ppl    1.506\n",
            "| epoch  10 |    50/  200 steps | loss 0.34737 | ppl    1.415\n",
            "| epoch  10 |   100/  200 steps | loss 0.40137 | ppl    1.494\n",
            "| epoch  10 |   150/  200 steps | loss 0.40218 | ppl    1.495\n",
            "| epoch  11 |    50/  200 steps | loss 0.37378 | ppl    1.453\n",
            "| epoch  11 |   100/  200 steps | loss 0.46398 | ppl    1.590\n",
            "| epoch  11 |   150/  200 steps | loss 0.33128 | ppl    1.393\n",
            "| epoch  12 |    50/  200 steps | loss 0.26048 | ppl    1.298\n",
            "| epoch  12 |   100/  200 steps | loss 0.44081 | ppl    1.554\n",
            "| epoch  12 |   150/  200 steps | loss 0.29659 | ppl    1.345\n",
            "| epoch  13 |    50/  200 steps | loss 0.30599 | ppl    1.358\n",
            "| epoch  13 |   100/  200 steps | loss 0.27258 | ppl    1.313\n",
            "| epoch  13 |   150/  200 steps | loss 0.36182 | ppl    1.436\n",
            "| epoch  14 |    50/  200 steps | loss 0.24732 | ppl    1.281\n",
            "| epoch  14 |   100/  200 steps | loss 0.33668 | ppl    1.400\n",
            "| epoch  14 |   150/  200 steps | loss 0.32610 | ppl    1.386\n",
            "| epoch  15 |    50/  200 steps | loss 0.24465 | ppl    1.277\n",
            "| epoch  15 |   100/  200 steps | loss 0.44848 | ppl    1.566\n",
            "| epoch  15 |   150/  200 steps | loss 0.31172 | ppl    1.366\n",
            "\n"
          ]
        }
      ],
      "source": [
        "from_scratch_settings = [True, False]\n",
        "\n",
        "from_scratch_valid_acc = []\n",
        "pretrained_valid_acc = []\n",
        "lr = 0.0001\n",
        "\n",
        "for from_scratch in from_scratch_settings:\n",
        "    model = Model(ntokens, nhead, nhid, nlayers, 2, dropout).to(device)\n",
        "    criterion = nn.CrossEntropyLoss()\n",
        "    optimizer = torch.optim.Adam(model.parameters(), lr=lr)\n",
        "    if not from_scratch:\n",
        "        print(\"=====PRETRAINED MODEL======\")\n",
        "        #load checkpoint\n",
        "        checkpoint = torch.load(\"pretrained_model_4layers_no_class_head.pt\")\n",
        "        #load state dict\n",
        "        model.base.load_state_dict(checkpoint['model_state_dict'])\n",
        "    else:\n",
        "        print(\"=====Trainig FROM SCRATCH======\")\n",
        "    epochs = 15\n",
        "    for epoch in range(1, epochs + 1):\n",
        "        train(\n",
        "            path_data_train,\n",
        "            path_labels_train,\n",
        "            save_interval=-1,\n",
        "            task='classification',\n",
        "            batch_size=8,\n",
        "            log_interval=50,\n",
        "        )\n",
        "        acc = evaluate_accuracy(\n",
        "            get_loader(\n",
        "                path_data_valid,\n",
        "                path_labels_valid,\n",
        "                token2ind=token2ind,\n",
        "                batch_size=20,\n",
        "                task='classification',\n",
        "            )\n",
        "        )\n",
        "        if from_scratch:\n",
        "            from_scratch_valid_acc.append(acc)\n",
        "        else:\n",
        "            pretrained_valid_acc.append(acc)\n",
        "    print()"
      ]
    },
    {
      "cell_type": "code",
      "execution_count": 73,
      "metadata": {
        "colab": {
          "base_uri": "https://localhost:8080/",
          "height": 472
        },
        "id": "RCpBIdTHojm6",
        "outputId": "a79dced7-1e31-4e54-aaeb-2181a67d9f30"
      },
      "outputs": [
        {
          "data": {
            "image/png": "[encoded data removed]",
            "text/plain": [
              "<Figure size 640x480 with 1 Axes>"
            ]
          },
          "metadata": {},
          "output_type": "display_data"
        }
      ],
      "source": [
        "#Visualize the accuracy\n",
        "\n",
        "import matplotlib.pyplot as plt\n",
        "epochs = list(range(1, 16))\n",
        "\n",
        "plt.plot(epochs, from_scratch_valid_acc, label='Training from Scratch', marker='o')\n",
        "plt.plot(epochs, pretrained_valid_acc, label='Pretrained Model', marker='o')\n",
        "\n",
        "# Configurez le titre et les légendes\n",
        "plt.title('Accuracy')\n",
        "plt.xlabel('Epoch')\n",
        "plt.ylabel('Accuracy (%)')\n",
        "plt.legend()\n",
        "\n",
        "# Affichez le graphique\n",
        "plt.grid(True)\n",
        "plt.show()\n"
      ]
    }
  ],
  "metadata": {
    "accelerator": "GPU",
    "colab": {
      "gpuType": "T4",
      "provenance": []
    },
    "kernelspec": {
      "display_name": "Python 3",
      "name": "python3"
    },
    "language_info": {
      "codemirror_mode": {
        "name": "ipython",
        "version": 3
      },
      "file_extension": ".py",
      "mimetype": "text/x-python",
      "name": "python",
      "nbconvert_exporter": "python",
      "pygments_lexer": "ipython3",
      "version": "3.10.6"
    },
    "vscode": {
      "interpreter": {
        "hash": "c3a5ae1ae8efed8e3cf296aadad5ee3571cbe0979bef69c7518f24f99ae72373"
      }
    }
  },
  "nbformat": 4,
  "nbformat_minor": 0
}
